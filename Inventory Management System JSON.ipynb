{
 "cells": [
  {
   "cell_type": "markdown",
   "id": "96b24649",
   "metadata": {},
   "source": [
    "## Records of 25 Items"
   ]
  },
  {
   "cell_type": "code",
   "execution_count": 1,
   "id": "6ab497a5",
   "metadata": {},
   "outputs": [],
   "source": [
    "items = { 10001 : {'Name':'Milk' , 'Brand':'Amul' , 'Price':30 , 'Quantity':90 , 'Description':'whitish liquid'},\n",
    "          10002 : {'Name':'Ice-cream' , 'Brand':'Mother Dairy' , 'Price':60 , 'Quantity':120 , 'Description':'frozen dairy food'},\n",
    "          10003 : {'Name':'Watch' , 'Brand':'Titan' , 'Price':1000 , 'Quantity':150 , 'Description':'portable timepiece'},\n",
    "          10004 : {'Name':'Sandals' , 'Brand':'Bata' , 'Price':500 , 'Quantity':100 , 'Description':'footwear'},\n",
    "          10005 : {'Name':'Shoes' , 'Brand':'Nike' , 'Price':5000 , 'Quantity':50 , 'Description':'footwear'},\n",
    "          10006 : {'Name':'Television' , 'Brand':'Sony' , 'Price':50000 , 'Quantity':70 , 'Description':'electronic item'},\n",
    "          10007 : {'Name':'Mobile' , 'Brand':'MI' , 'Price':12000 , 'Quantity':90 , 'Description':'electronic item'},\n",
    "          10008 : {'Name':'Ear phones' , 'Brand':'Boat' , 'Price':800 , 'Quantity':170 , 'Description':'electronic item'},\n",
    "          10009 : {'Name':'Skipping Rope' , 'Brand':'Decathlon' , 'Price':500 , 'Quantity':40 , 'Description':'Fitness'},\n",
    "          10010 : {'Name':'AC' , 'Brand':'LG' , 'Price':35000 , 'Quantity':100 , 'Description':'Air conditioning'},\n",
    "          10011 : {'Name':'Shampoo' , 'Brand':'Clinic Plus' , 'Price':180 , 'Quantity':150 , 'Description':'Hair washer'},\n",
    "          10012 : {'Name':'Jeans' , 'Brand':'ZARA' , 'Price':2000 , 'Quantity':95 , 'Description':'Clothes'},\n",
    "          10013 : {'Name':'Perfume' , 'Brand':'Fogg' , 'Price':500 , 'Quantity':160 , 'Description':'Fragrance'},\n",
    "          10014 : {'Name':'Makeup kit' , 'Brand':'Lakme' , 'Price':3000 , 'Quantity':50 , 'Description':'Beauty'},\n",
    "          10015 : {'Name':'Soap' , 'Brand':'Himalaya' , 'Price':175 , 'Quantity':40 , 'Description':'Bathing'},\n",
    "          10016 : {'Name':'Table' , 'Brand':'Edra' , 'Price':800 , 'Quantity':90 , 'Description':'wooden'},\n",
    "          10017 : {'Name':'Laptop' , 'Brand':'HP' , 'Price':50000 , 'Quantity':190 , 'Description':'electronic item'},\n",
    "          10018 : {'Name':'Handbags' , 'Brand':'fastrack' , 'Price':500 , 'Quantity':60 , 'Description':'handbags and clutches'},\n",
    "          10019 : {'Name':'Chocolate' , 'Brand':'Amul' , 'Price':150 , 'Quantity':70 , 'Description':'Grocery'},\n",
    "          10020 : {'Name':'Maggie' , 'Brand':'Maggie' , 'Price':12 , 'Quantity':100 , 'Description':'Grocery'},\n",
    "          10021 : {'Name':'Dumbells' , 'Brand':'Decathlon' , 'Price':300 , 'Quantity':150 , 'Description':'sports'},\n",
    "          10022 : {'Name':'Toys' , 'Brand':'Toy' , 'Price':100 , 'Quantity':30 , 'Description':'Games'},\n",
    "          10023 : {'Name':'Baby product' , 'Brand':'Pampers' , 'Price':450 , 'Quantity':40 , 'Description':'baby products'},\n",
    "          10024 : {'Name':'Bike' , 'Brand':'KTM' , 'Price':80000 , 'Quantity':15 , 'Description':'two-wheel vehicle'},\n",
    "          10025 : {'Name':'Car' , 'Brand':'Creta' , 'Price':400000 , 'Quantity':30 , 'Description':'four wheel vehicle'}\n",
    "}"
   ]
  },
  {
   "cell_type": "code",
   "execution_count": 2,
   "id": "ef8f1ee4",
   "metadata": {},
   "outputs": [
    {
     "data": {
      "text/plain": [
       "{10001: {'Name': 'Milk',\n",
       "  'Brand': 'Amul',\n",
       "  'Price': 30,\n",
       "  'Quantity': 90,\n",
       "  'Description': 'whitish liquid'},\n",
       " 10002: {'Name': 'Ice-cream',\n",
       "  'Brand': 'Mother Dairy',\n",
       "  'Price': 60,\n",
       "  'Quantity': 120,\n",
       "  'Description': 'frozen dairy food'},\n",
       " 10003: {'Name': 'Watch',\n",
       "  'Brand': 'Titan',\n",
       "  'Price': 1000,\n",
       "  'Quantity': 150,\n",
       "  'Description': 'portable timepiece'},\n",
       " 10004: {'Name': 'Sandals',\n",
       "  'Brand': 'Bata',\n",
       "  'Price': 500,\n",
       "  'Quantity': 100,\n",
       "  'Description': 'footwear'},\n",
       " 10005: {'Name': 'Shoes',\n",
       "  'Brand': 'Nike',\n",
       "  'Price': 5000,\n",
       "  'Quantity': 50,\n",
       "  'Description': 'footwear'},\n",
       " 10006: {'Name': 'Television',\n",
       "  'Brand': 'Sony',\n",
       "  'Price': 50000,\n",
       "  'Quantity': 70,\n",
       "  'Description': 'electronic item'},\n",
       " 10007: {'Name': 'Mobile',\n",
       "  'Brand': 'MI',\n",
       "  'Price': 12000,\n",
       "  'Quantity': 90,\n",
       "  'Description': 'electronic item'},\n",
       " 10008: {'Name': 'Ear phones',\n",
       "  'Brand': 'Boat',\n",
       "  'Price': 800,\n",
       "  'Quantity': 170,\n",
       "  'Description': 'electronic item'},\n",
       " 10009: {'Name': 'Skipping Rope',\n",
       "  'Brand': 'Decathlon',\n",
       "  'Price': 500,\n",
       "  'Quantity': 40,\n",
       "  'Description': 'Fitness'},\n",
       " 10010: {'Name': 'AC',\n",
       "  'Brand': 'LG',\n",
       "  'Price': 35000,\n",
       "  'Quantity': 100,\n",
       "  'Description': 'Air conditioning'},\n",
       " 10011: {'Name': 'Shampoo',\n",
       "  'Brand': 'Clinic Plus',\n",
       "  'Price': 180,\n",
       "  'Quantity': 150,\n",
       "  'Description': 'Hair washer'},\n",
       " 10012: {'Name': 'Jeans',\n",
       "  'Brand': 'ZARA',\n",
       "  'Price': 2000,\n",
       "  'Quantity': 95,\n",
       "  'Description': 'Clothes'},\n",
       " 10013: {'Name': 'Perfume',\n",
       "  'Brand': 'Fogg',\n",
       "  'Price': 500,\n",
       "  'Quantity': 160,\n",
       "  'Description': 'Fragrance'},\n",
       " 10014: {'Name': 'Makeup kit',\n",
       "  'Brand': 'Lakme',\n",
       "  'Price': 3000,\n",
       "  'Quantity': 50,\n",
       "  'Description': 'Beauty'},\n",
       " 10015: {'Name': 'Soap',\n",
       "  'Brand': 'Himalaya',\n",
       "  'Price': 175,\n",
       "  'Quantity': 40,\n",
       "  'Description': 'Bathing'},\n",
       " 10016: {'Name': 'Table',\n",
       "  'Brand': 'Edra',\n",
       "  'Price': 800,\n",
       "  'Quantity': 90,\n",
       "  'Description': 'wooden'},\n",
       " 10017: {'Name': 'Laptop',\n",
       "  'Brand': 'HP',\n",
       "  'Price': 50000,\n",
       "  'Quantity': 190,\n",
       "  'Description': 'electronic item'},\n",
       " 10018: {'Name': 'Handbags',\n",
       "  'Brand': 'fastrack',\n",
       "  'Price': 500,\n",
       "  'Quantity': 60,\n",
       "  'Description': 'handbags and clutches'},\n",
       " 10019: {'Name': 'Chocolate',\n",
       "  'Brand': 'Amul',\n",
       "  'Price': 150,\n",
       "  'Quantity': 70,\n",
       "  'Description': 'Grocery'},\n",
       " 10020: {'Name': 'Maggie',\n",
       "  'Brand': 'Maggie',\n",
       "  'Price': 12,\n",
       "  'Quantity': 100,\n",
       "  'Description': 'Grocery'},\n",
       " 10021: {'Name': 'Dumbells',\n",
       "  'Brand': 'Decathlon',\n",
       "  'Price': 300,\n",
       "  'Quantity': 150,\n",
       "  'Description': 'sports'},\n",
       " 10022: {'Name': 'Toys',\n",
       "  'Brand': 'Toy',\n",
       "  'Price': 100,\n",
       "  'Quantity': 30,\n",
       "  'Description': 'Games'},\n",
       " 10023: {'Name': 'Baby product',\n",
       "  'Brand': 'Pampers',\n",
       "  'Price': 450,\n",
       "  'Quantity': 40,\n",
       "  'Description': 'baby products'},\n",
       " 10024: {'Name': 'Bike',\n",
       "  'Brand': 'KTM',\n",
       "  'Price': 80000,\n",
       "  'Quantity': 15,\n",
       "  'Description': 'two-wheel vehicle'},\n",
       " 10025: {'Name': 'Car',\n",
       "  'Brand': 'Creta',\n",
       "  'Price': 400000,\n",
       "  'Quantity': 30,\n",
       "  'Description': 'four wheel vehicle'}}"
      ]
     },
     "execution_count": 2,
     "metadata": {},
     "output_type": "execute_result"
    }
   ],
   "source": [
    "items"
   ]
  },
  {
   "cell_type": "code",
   "execution_count": 3,
   "id": "5a684143",
   "metadata": {},
   "outputs": [
    {
     "data": {
      "text/plain": [
       "{'Name': 'Ear phones',\n",
       " 'Brand': 'Boat',\n",
       " 'Price': 800,\n",
       " 'Quantity': 170,\n",
       " 'Description': 'electronic item'}"
      ]
     },
     "execution_count": 3,
     "metadata": {},
     "output_type": "execute_result"
    }
   ],
   "source": [
    "items[10008]"
   ]
  },
  {
   "cell_type": "markdown",
   "id": "c5f37714",
   "metadata": {},
   "source": [
    "## Creating JSON File"
   ]
  },
  {
   "cell_type": "code",
   "execution_count": 4,
   "id": "2d448583",
   "metadata": {},
   "outputs": [],
   "source": [
    "import json"
   ]
  },
  {
   "cell_type": "code",
   "execution_count": 5,
   "id": "58a6ae4e",
   "metadata": {},
   "outputs": [],
   "source": [
    "js= json.dumps(items) # coverts dic into str"
   ]
  },
  {
   "cell_type": "code",
   "execution_count": 6,
   "id": "b2f5c107",
   "metadata": {},
   "outputs": [
    {
     "data": {
      "text/plain": [
       "'{\"10001\": {\"Name\": \"Milk\", \"Brand\": \"Amul\", \"Price\": 30, \"Quantity\": 90, \"Description\": \"whitish liquid\"}, \"10002\": {\"Name\": \"Ice-cream\", \"Brand\": \"Mother Dairy\", \"Price\": 60, \"Quantity\": 120, \"Description\": \"frozen dairy food\"}, \"10003\": {\"Name\": \"Watch\", \"Brand\": \"Titan\", \"Price\": 1000, \"Quantity\": 150, \"Description\": \"portable timepiece\"}, \"10004\": {\"Name\": \"Sandals\", \"Brand\": \"Bata\", \"Price\": 500, \"Quantity\": 100, \"Description\": \"footwear\"}, \"10005\": {\"Name\": \"Shoes\", \"Brand\": \"Nike\", \"Price\": 5000, \"Quantity\": 50, \"Description\": \"footwear\"}, \"10006\": {\"Name\": \"Television\", \"Brand\": \"Sony\", \"Price\": 50000, \"Quantity\": 70, \"Description\": \"electronic item\"}, \"10007\": {\"Name\": \"Mobile\", \"Brand\": \"MI\", \"Price\": 12000, \"Quantity\": 90, \"Description\": \"electronic item\"}, \"10008\": {\"Name\": \"Ear phones\", \"Brand\": \"Boat\", \"Price\": 800, \"Quantity\": 170, \"Description\": \"electronic item\"}, \"10009\": {\"Name\": \"Skipping Rope\", \"Brand\": \"Decathlon\", \"Price\": 500, \"Quantity\": 40, \"Description\": \"Fitness\"}, \"10010\": {\"Name\": \"AC\", \"Brand\": \"LG\", \"Price\": 35000, \"Quantity\": 100, \"Description\": \"Air conditioning\"}, \"10011\": {\"Name\": \"Shampoo\", \"Brand\": \"Clinic Plus\", \"Price\": 180, \"Quantity\": 150, \"Description\": \"Hair washer\"}, \"10012\": {\"Name\": \"Jeans\", \"Brand\": \"ZARA\", \"Price\": 2000, \"Quantity\": 95, \"Description\": \"Clothes\"}, \"10013\": {\"Name\": \"Perfume\", \"Brand\": \"Fogg\", \"Price\": 500, \"Quantity\": 160, \"Description\": \"Fragrance\"}, \"10014\": {\"Name\": \"Makeup kit\", \"Brand\": \"Lakme\", \"Price\": 3000, \"Quantity\": 50, \"Description\": \"Beauty\"}, \"10015\": {\"Name\": \"Soap\", \"Brand\": \"Himalaya\", \"Price\": 175, \"Quantity\": 40, \"Description\": \"Bathing\"}, \"10016\": {\"Name\": \"Table\", \"Brand\": \"Edra\", \"Price\": 800, \"Quantity\": 90, \"Description\": \"wooden\"}, \"10017\": {\"Name\": \"Laptop\", \"Brand\": \"HP\", \"Price\": 50000, \"Quantity\": 190, \"Description\": \"electronic item\"}, \"10018\": {\"Name\": \"Handbags\", \"Brand\": \"fastrack\", \"Price\": 500, \"Quantity\": 60, \"Description\": \"handbags and clutches\"}, \"10019\": {\"Name\": \"Chocolate\", \"Brand\": \"Amul\", \"Price\": 150, \"Quantity\": 70, \"Description\": \"Grocery\"}, \"10020\": {\"Name\": \"Maggie\", \"Brand\": \"Maggie\", \"Price\": 12, \"Quantity\": 100, \"Description\": \"Grocery\"}, \"10021\": {\"Name\": \"Dumbells\", \"Brand\": \"Decathlon\", \"Price\": 300, \"Quantity\": 150, \"Description\": \"sports\"}, \"10022\": {\"Name\": \"Toys\", \"Brand\": \"Toy\", \"Price\": 100, \"Quantity\": 30, \"Description\": \"Games\"}, \"10023\": {\"Name\": \"Baby product\", \"Brand\": \"Pampers\", \"Price\": 450, \"Quantity\": 40, \"Description\": \"baby products\"}, \"10024\": {\"Name\": \"Bike\", \"Brand\": \"KTM\", \"Price\": 80000, \"Quantity\": 15, \"Description\": \"two-wheel vehicle\"}, \"10025\": {\"Name\": \"Car\", \"Brand\": \"Creta\", \"Price\": 400000, \"Quantity\": 30, \"Description\": \"four wheel vehicle\"}}'"
      ]
     },
     "execution_count": 6,
     "metadata": {},
     "output_type": "execute_result"
    }
   ],
   "source": [
    "js"
   ]
  },
  {
   "cell_type": "code",
   "execution_count": 7,
   "id": "2ae1a27e",
   "metadata": {},
   "outputs": [
    {
     "data": {
      "text/plain": [
       "str"
      ]
     },
     "execution_count": 7,
     "metadata": {},
     "output_type": "execute_result"
    }
   ],
   "source": [
    "type(js)"
   ]
  },
  {
   "cell_type": "code",
   "execution_count": 8,
   "id": "98e2db4b",
   "metadata": {},
   "outputs": [
    {
     "data": {
      "text/plain": [
       "{10001: {'Name': 'Milk',\n",
       "  'Brand': 'Amul',\n",
       "  'Price': 30,\n",
       "  'Quantity': 90,\n",
       "  'Description': 'whitish liquid'},\n",
       " 10002: {'Name': 'Ice-cream',\n",
       "  'Brand': 'Mother Dairy',\n",
       "  'Price': 60,\n",
       "  'Quantity': 120,\n",
       "  'Description': 'frozen dairy food'},\n",
       " 10003: {'Name': 'Watch',\n",
       "  'Brand': 'Titan',\n",
       "  'Price': 1000,\n",
       "  'Quantity': 150,\n",
       "  'Description': 'portable timepiece'},\n",
       " 10004: {'Name': 'Sandals',\n",
       "  'Brand': 'Bata',\n",
       "  'Price': 500,\n",
       "  'Quantity': 100,\n",
       "  'Description': 'footwear'},\n",
       " 10005: {'Name': 'Shoes',\n",
       "  'Brand': 'Nike',\n",
       "  'Price': 5000,\n",
       "  'Quantity': 50,\n",
       "  'Description': 'footwear'},\n",
       " 10006: {'Name': 'Television',\n",
       "  'Brand': 'Sony',\n",
       "  'Price': 50000,\n",
       "  'Quantity': 70,\n",
       "  'Description': 'electronic item'},\n",
       " 10007: {'Name': 'Mobile',\n",
       "  'Brand': 'MI',\n",
       "  'Price': 12000,\n",
       "  'Quantity': 90,\n",
       "  'Description': 'electronic item'},\n",
       " 10008: {'Name': 'Ear phones',\n",
       "  'Brand': 'Boat',\n",
       "  'Price': 800,\n",
       "  'Quantity': 170,\n",
       "  'Description': 'electronic item'},\n",
       " 10009: {'Name': 'Skipping Rope',\n",
       "  'Brand': 'Decathlon',\n",
       "  'Price': 500,\n",
       "  'Quantity': 40,\n",
       "  'Description': 'Fitness'},\n",
       " 10010: {'Name': 'AC',\n",
       "  'Brand': 'LG',\n",
       "  'Price': 35000,\n",
       "  'Quantity': 100,\n",
       "  'Description': 'Air conditioning'},\n",
       " 10011: {'Name': 'Shampoo',\n",
       "  'Brand': 'Clinic Plus',\n",
       "  'Price': 180,\n",
       "  'Quantity': 150,\n",
       "  'Description': 'Hair washer'},\n",
       " 10012: {'Name': 'Jeans',\n",
       "  'Brand': 'ZARA',\n",
       "  'Price': 2000,\n",
       "  'Quantity': 95,\n",
       "  'Description': 'Clothes'},\n",
       " 10013: {'Name': 'Perfume',\n",
       "  'Brand': 'Fogg',\n",
       "  'Price': 500,\n",
       "  'Quantity': 160,\n",
       "  'Description': 'Fragrance'},\n",
       " 10014: {'Name': 'Makeup kit',\n",
       "  'Brand': 'Lakme',\n",
       "  'Price': 3000,\n",
       "  'Quantity': 50,\n",
       "  'Description': 'Beauty'},\n",
       " 10015: {'Name': 'Soap',\n",
       "  'Brand': 'Himalaya',\n",
       "  'Price': 175,\n",
       "  'Quantity': 40,\n",
       "  'Description': 'Bathing'},\n",
       " 10016: {'Name': 'Table',\n",
       "  'Brand': 'Edra',\n",
       "  'Price': 800,\n",
       "  'Quantity': 90,\n",
       "  'Description': 'wooden'},\n",
       " 10017: {'Name': 'Laptop',\n",
       "  'Brand': 'HP',\n",
       "  'Price': 50000,\n",
       "  'Quantity': 190,\n",
       "  'Description': 'electronic item'},\n",
       " 10018: {'Name': 'Handbags',\n",
       "  'Brand': 'fastrack',\n",
       "  'Price': 500,\n",
       "  'Quantity': 60,\n",
       "  'Description': 'handbags and clutches'},\n",
       " 10019: {'Name': 'Chocolate',\n",
       "  'Brand': 'Amul',\n",
       "  'Price': 150,\n",
       "  'Quantity': 70,\n",
       "  'Description': 'Grocery'},\n",
       " 10020: {'Name': 'Maggie',\n",
       "  'Brand': 'Maggie',\n",
       "  'Price': 12,\n",
       "  'Quantity': 100,\n",
       "  'Description': 'Grocery'},\n",
       " 10021: {'Name': 'Dumbells',\n",
       "  'Brand': 'Decathlon',\n",
       "  'Price': 300,\n",
       "  'Quantity': 150,\n",
       "  'Description': 'sports'},\n",
       " 10022: {'Name': 'Toys',\n",
       "  'Brand': 'Toy',\n",
       "  'Price': 100,\n",
       "  'Quantity': 30,\n",
       "  'Description': 'Games'},\n",
       " 10023: {'Name': 'Baby product',\n",
       "  'Brand': 'Pampers',\n",
       "  'Price': 450,\n",
       "  'Quantity': 40,\n",
       "  'Description': 'baby products'},\n",
       " 10024: {'Name': 'Bike',\n",
       "  'Brand': 'KTM',\n",
       "  'Price': 80000,\n",
       "  'Quantity': 15,\n",
       "  'Description': 'two-wheel vehicle'},\n",
       " 10025: {'Name': 'Car',\n",
       "  'Brand': 'Creta',\n",
       "  'Price': 400000,\n",
       "  'Quantity': 30,\n",
       "  'Description': 'four wheel vehicle'}}"
      ]
     },
     "execution_count": 8,
     "metadata": {},
     "output_type": "execute_result"
    }
   ],
   "source": [
    "items"
   ]
  },
  {
   "cell_type": "code",
   "execution_count": 9,
   "id": "8f630d71",
   "metadata": {},
   "outputs": [
    {
     "data": {
      "text/plain": [
       "dict"
      ]
     },
     "execution_count": 9,
     "metadata": {},
     "output_type": "execute_result"
    }
   ],
   "source": [
    "type(items)"
   ]
  },
  {
   "cell_type": "code",
   "execution_count": 10,
   "id": "220761aa",
   "metadata": {},
   "outputs": [],
   "source": [
    "fd=open(\"items.json\",'w')\n",
    "fd.write(js)\n",
    "fd.close()"
   ]
  },
  {
   "cell_type": "code",
   "execution_count": 11,
   "id": "caceb12a",
   "metadata": {},
   "outputs": [],
   "source": [
    "fd=open(\"items.json\",'r')\n",
    "txt=fd.read()\n",
    "fd.close()"
   ]
  },
  {
   "cell_type": "code",
   "execution_count": 12,
   "id": "53fa6119",
   "metadata": {},
   "outputs": [
    {
     "data": {
      "text/plain": [
       "'{\"10001\": {\"Name\": \"Milk\", \"Brand\": \"Amul\", \"Price\": 30, \"Quantity\": 90, \"Description\": \"whitish liquid\"}, \"10002\": {\"Name\": \"Ice-cream\", \"Brand\": \"Mother Dairy\", \"Price\": 60, \"Quantity\": 120, \"Description\": \"frozen dairy food\"}, \"10003\": {\"Name\": \"Watch\", \"Brand\": \"Titan\", \"Price\": 1000, \"Quantity\": 150, \"Description\": \"portable timepiece\"}, \"10004\": {\"Name\": \"Sandals\", \"Brand\": \"Bata\", \"Price\": 500, \"Quantity\": 100, \"Description\": \"footwear\"}, \"10005\": {\"Name\": \"Shoes\", \"Brand\": \"Nike\", \"Price\": 5000, \"Quantity\": 50, \"Description\": \"footwear\"}, \"10006\": {\"Name\": \"Television\", \"Brand\": \"Sony\", \"Price\": 50000, \"Quantity\": 70, \"Description\": \"electronic item\"}, \"10007\": {\"Name\": \"Mobile\", \"Brand\": \"MI\", \"Price\": 12000, \"Quantity\": 90, \"Description\": \"electronic item\"}, \"10008\": {\"Name\": \"Ear phones\", \"Brand\": \"Boat\", \"Price\": 800, \"Quantity\": 170, \"Description\": \"electronic item\"}, \"10009\": {\"Name\": \"Skipping Rope\", \"Brand\": \"Decathlon\", \"Price\": 500, \"Quantity\": 40, \"Description\": \"Fitness\"}, \"10010\": {\"Name\": \"AC\", \"Brand\": \"LG\", \"Price\": 35000, \"Quantity\": 100, \"Description\": \"Air conditioning\"}, \"10011\": {\"Name\": \"Shampoo\", \"Brand\": \"Clinic Plus\", \"Price\": 180, \"Quantity\": 150, \"Description\": \"Hair washer\"}, \"10012\": {\"Name\": \"Jeans\", \"Brand\": \"ZARA\", \"Price\": 2000, \"Quantity\": 95, \"Description\": \"Clothes\"}, \"10013\": {\"Name\": \"Perfume\", \"Brand\": \"Fogg\", \"Price\": 500, \"Quantity\": 160, \"Description\": \"Fragrance\"}, \"10014\": {\"Name\": \"Makeup kit\", \"Brand\": \"Lakme\", \"Price\": 3000, \"Quantity\": 50, \"Description\": \"Beauty\"}, \"10015\": {\"Name\": \"Soap\", \"Brand\": \"Himalaya\", \"Price\": 175, \"Quantity\": 40, \"Description\": \"Bathing\"}, \"10016\": {\"Name\": \"Table\", \"Brand\": \"Edra\", \"Price\": 800, \"Quantity\": 90, \"Description\": \"wooden\"}, \"10017\": {\"Name\": \"Laptop\", \"Brand\": \"HP\", \"Price\": 50000, \"Quantity\": 190, \"Description\": \"electronic item\"}, \"10018\": {\"Name\": \"Handbags\", \"Brand\": \"fastrack\", \"Price\": 500, \"Quantity\": 60, \"Description\": \"handbags and clutches\"}, \"10019\": {\"Name\": \"Chocolate\", \"Brand\": \"Amul\", \"Price\": 150, \"Quantity\": 70, \"Description\": \"Grocery\"}, \"10020\": {\"Name\": \"Maggie\", \"Brand\": \"Maggie\", \"Price\": 12, \"Quantity\": 100, \"Description\": \"Grocery\"}, \"10021\": {\"Name\": \"Dumbells\", \"Brand\": \"Decathlon\", \"Price\": 300, \"Quantity\": 150, \"Description\": \"sports\"}, \"10022\": {\"Name\": \"Toys\", \"Brand\": \"Toy\", \"Price\": 100, \"Quantity\": 30, \"Description\": \"Games\"}, \"10023\": {\"Name\": \"Baby product\", \"Brand\": \"Pampers\", \"Price\": 450, \"Quantity\": 40, \"Description\": \"baby products\"}, \"10024\": {\"Name\": \"Bike\", \"Brand\": \"KTM\", \"Price\": 80000, \"Quantity\": 15, \"Description\": \"two-wheel vehicle\"}, \"10025\": {\"Name\": \"Car\", \"Brand\": \"Creta\", \"Price\": 400000, \"Quantity\": 30, \"Description\": \"four wheel vehicle\"}}'"
      ]
     },
     "execution_count": 12,
     "metadata": {},
     "output_type": "execute_result"
    }
   ],
   "source": [
    "txt"
   ]
  },
  {
   "cell_type": "code",
   "execution_count": 13,
   "id": "064f8e32",
   "metadata": {},
   "outputs": [
    {
     "data": {
      "text/plain": [
       "2739"
      ]
     },
     "execution_count": 13,
     "metadata": {},
     "output_type": "execute_result"
    }
   ],
   "source": [
    "len(txt)"
   ]
  },
  {
   "cell_type": "code",
   "execution_count": 14,
   "id": "11efb692",
   "metadata": {},
   "outputs": [
    {
     "data": {
      "text/plain": [
       "str"
      ]
     },
     "execution_count": 14,
     "metadata": {},
     "output_type": "execute_result"
    }
   ],
   "source": [
    "type(txt)"
   ]
  },
  {
   "cell_type": "code",
   "execution_count": 16,
   "id": "8fa19922",
   "metadata": {},
   "outputs": [],
   "source": [
    "items=json.loads(txt) #coverts str into dic"
   ]
  },
  {
   "cell_type": "code",
   "execution_count": 17,
   "id": "a02d880e",
   "metadata": {},
   "outputs": [
    {
     "data": {
      "text/plain": [
       "{'10001': {'Name': 'Milk',\n",
       "  'Brand': 'Amul',\n",
       "  'Price': 30,\n",
       "  'Quantity': 90,\n",
       "  'Description': 'whitish liquid'},\n",
       " '10002': {'Name': 'Ice-cream',\n",
       "  'Brand': 'Mother Dairy',\n",
       "  'Price': 60,\n",
       "  'Quantity': 120,\n",
       "  'Description': 'frozen dairy food'},\n",
       " '10003': {'Name': 'Watch',\n",
       "  'Brand': 'Titan',\n",
       "  'Price': 1000,\n",
       "  'Quantity': 150,\n",
       "  'Description': 'portable timepiece'},\n",
       " '10004': {'Name': 'Sandals',\n",
       "  'Brand': 'Bata',\n",
       "  'Price': 500,\n",
       "  'Quantity': 100,\n",
       "  'Description': 'footwear'},\n",
       " '10005': {'Name': 'Shoes',\n",
       "  'Brand': 'Nike',\n",
       "  'Price': 5000,\n",
       "  'Quantity': 50,\n",
       "  'Description': 'footwear'},\n",
       " '10006': {'Name': 'Television',\n",
       "  'Brand': 'Sony',\n",
       "  'Price': 50000,\n",
       "  'Quantity': 70,\n",
       "  'Description': 'electronic item'},\n",
       " '10007': {'Name': 'Mobile',\n",
       "  'Brand': 'MI',\n",
       "  'Price': 12000,\n",
       "  'Quantity': 90,\n",
       "  'Description': 'electronic item'},\n",
       " '10008': {'Name': 'Ear phones',\n",
       "  'Brand': 'Boat',\n",
       "  'Price': 800,\n",
       "  'Quantity': 170,\n",
       "  'Description': 'electronic item'},\n",
       " '10009': {'Name': 'Skipping Rope',\n",
       "  'Brand': 'Decathlon',\n",
       "  'Price': 500,\n",
       "  'Quantity': 40,\n",
       "  'Description': 'Fitness'},\n",
       " '10010': {'Name': 'AC',\n",
       "  'Brand': 'LG',\n",
       "  'Price': 35000,\n",
       "  'Quantity': 100,\n",
       "  'Description': 'Air conditioning'},\n",
       " '10011': {'Name': 'Shampoo',\n",
       "  'Brand': 'Clinic Plus',\n",
       "  'Price': 180,\n",
       "  'Quantity': 150,\n",
       "  'Description': 'Hair washer'},\n",
       " '10012': {'Name': 'Jeans',\n",
       "  'Brand': 'ZARA',\n",
       "  'Price': 2000,\n",
       "  'Quantity': 95,\n",
       "  'Description': 'Clothes'},\n",
       " '10013': {'Name': 'Perfume',\n",
       "  'Brand': 'Fogg',\n",
       "  'Price': 500,\n",
       "  'Quantity': 160,\n",
       "  'Description': 'Fragrance'},\n",
       " '10014': {'Name': 'Makeup kit',\n",
       "  'Brand': 'Lakme',\n",
       "  'Price': 3000,\n",
       "  'Quantity': 50,\n",
       "  'Description': 'Beauty'},\n",
       " '10015': {'Name': 'Soap',\n",
       "  'Brand': 'Himalaya',\n",
       "  'Price': 175,\n",
       "  'Quantity': 40,\n",
       "  'Description': 'Bathing'},\n",
       " '10016': {'Name': 'Table',\n",
       "  'Brand': 'Edra',\n",
       "  'Price': 800,\n",
       "  'Quantity': 90,\n",
       "  'Description': 'wooden'},\n",
       " '10017': {'Name': 'Laptop',\n",
       "  'Brand': 'HP',\n",
       "  'Price': 50000,\n",
       "  'Quantity': 190,\n",
       "  'Description': 'electronic item'},\n",
       " '10018': {'Name': 'Handbags',\n",
       "  'Brand': 'fastrack',\n",
       "  'Price': 500,\n",
       "  'Quantity': 60,\n",
       "  'Description': 'handbags and clutches'},\n",
       " '10019': {'Name': 'Chocolate',\n",
       "  'Brand': 'Amul',\n",
       "  'Price': 150,\n",
       "  'Quantity': 70,\n",
       "  'Description': 'Grocery'},\n",
       " '10020': {'Name': 'Maggie',\n",
       "  'Brand': 'Maggie',\n",
       "  'Price': 12,\n",
       "  'Quantity': 100,\n",
       "  'Description': 'Grocery'},\n",
       " '10021': {'Name': 'Dumbells',\n",
       "  'Brand': 'Decathlon',\n",
       "  'Price': 300,\n",
       "  'Quantity': 150,\n",
       "  'Description': 'sports'},\n",
       " '10022': {'Name': 'Toys',\n",
       "  'Brand': 'Toy',\n",
       "  'Price': 100,\n",
       "  'Quantity': 30,\n",
       "  'Description': 'Games'},\n",
       " '10023': {'Name': 'Baby product',\n",
       "  'Brand': 'Pampers',\n",
       "  'Price': 450,\n",
       "  'Quantity': 40,\n",
       "  'Description': 'baby products'},\n",
       " '10024': {'Name': 'Bike',\n",
       "  'Brand': 'KTM',\n",
       "  'Price': 80000,\n",
       "  'Quantity': 15,\n",
       "  'Description': 'two-wheel vehicle'},\n",
       " '10025': {'Name': 'Car',\n",
       "  'Brand': 'Creta',\n",
       "  'Price': 400000,\n",
       "  'Quantity': 30,\n",
       "  'Description': 'four wheel vehicle'}}"
      ]
     },
     "execution_count": 17,
     "metadata": {},
     "output_type": "execute_result"
    }
   ],
   "source": [
    "items"
   ]
  },
  {
   "cell_type": "markdown",
   "id": "daa37335",
   "metadata": {},
   "source": [
    "## Adding more items to JSON file"
   ]
  },
  {
   "cell_type": "code",
   "execution_count": 18,
   "id": "4f3d2a5a",
   "metadata": {},
   "outputs": [
    {
     "name": "stdout",
     "output_type": "stream",
     "text": [
      "Enter Item Id: 10026\n",
      "Enter Item Name: cooler\n",
      "Enter Item Brand: Orient\n",
      "Enter Item Price: 5000\n",
      "Enter Item Quantity: 75\n",
      "Enter Item Description: Container for keeping food and bottles cool in heat\n",
      "Enter Item Id: 10027\n",
      "Enter Item Name: Almirah\n",
      "Enter Item Brand: Godrej\n",
      "Enter Item Price: 10000\n",
      "Enter Item Quantity: 90\n",
      "Enter Item Description: wardrobe\n",
      "Enter Item Id: 10028\n",
      "Enter Item Name: LED\n",
      "Enter Item Brand: Phillips\n",
      "Enter Item Price: 50\n",
      "Enter Item Quantity: 70\n",
      "Enter Item Description: electronic item\n",
      "Enter Item Id: 10029\n",
      "Enter Item Name: Juice\n",
      "Enter Item Brand: Tropicana\n",
      "Enter Item Price: 120\n",
      "Enter Item Quantity: 100\n",
      "Enter Item Description: drink\n",
      "Enter Item Id: 10030\n",
      "Enter Item Name: Refrigrator\n",
      "Enter Item Brand: Whirlpool\n",
      "Enter Item Price: 300000\n",
      "Enter Item Quantity: 60\n",
      "Enter Item Description: electronic item\n"
     ]
    }
   ],
   "source": [
    "for i in range(1,6):\n",
    "    item_id = input(\"Enter Item Id: \")\n",
    "    item_name = input(\"Enter Item Name: \")\n",
    "    item_brand = input(\"Enter Item Brand: \")\n",
    "    item_price = int(input(\"Enter Item Price: \"))\n",
    "    item_quantity = int(input(\"Enter Item Quantity: \"))\n",
    "    item_description = input(\"Enter Item Description: \")\n",
    "    #print(item_id)\n",
    "    #print(item_name)\n",
    "    #print(item_brand)\n",
    "    #print(item_price)\n",
    "    #print(item_quantity)\n",
    "    #print(item_description)\n",
    "    items[item_id] = {'Name': item_name, 'Brand': item_brand, 'Price': item_price, 'Quantity': item_quantity, 'Description': item_description}\n"
   ]
  },
  {
   "cell_type": "code",
   "execution_count": 19,
   "id": "2bb14387",
   "metadata": {},
   "outputs": [],
   "source": [
    "js=json.dumps(items)"
   ]
  },
  {
   "cell_type": "code",
   "execution_count": 20,
   "id": "ae61da08",
   "metadata": {},
   "outputs": [],
   "source": [
    "fd = open(\"items.json\",'w')\n",
    "\n",
    "fd.write(js)\n",
    "\n",
    "fd.close()"
   ]
  },
  {
   "cell_type": "code",
   "execution_count": 21,
   "id": "0cf53f07",
   "metadata": {},
   "outputs": [
    {
     "data": {
      "text/plain": [
       "{'10001': {'Name': 'Milk',\n",
       "  'Brand': 'Amul',\n",
       "  'Price': 30,\n",
       "  'Quantity': 90,\n",
       "  'Description': 'whitish liquid'},\n",
       " '10002': {'Name': 'Ice-cream',\n",
       "  'Brand': 'Mother Dairy',\n",
       "  'Price': 60,\n",
       "  'Quantity': 120,\n",
       "  'Description': 'frozen dairy food'},\n",
       " '10003': {'Name': 'Watch',\n",
       "  'Brand': 'Titan',\n",
       "  'Price': 1000,\n",
       "  'Quantity': 150,\n",
       "  'Description': 'portable timepiece'},\n",
       " '10004': {'Name': 'Sandals',\n",
       "  'Brand': 'Bata',\n",
       "  'Price': 500,\n",
       "  'Quantity': 100,\n",
       "  'Description': 'footwear'},\n",
       " '10005': {'Name': 'Shoes',\n",
       "  'Brand': 'Nike',\n",
       "  'Price': 5000,\n",
       "  'Quantity': 50,\n",
       "  'Description': 'footwear'},\n",
       " '10006': {'Name': 'Television',\n",
       "  'Brand': 'Sony',\n",
       "  'Price': 50000,\n",
       "  'Quantity': 70,\n",
       "  'Description': 'electronic item'},\n",
       " '10007': {'Name': 'Mobile',\n",
       "  'Brand': 'MI',\n",
       "  'Price': 12000,\n",
       "  'Quantity': 90,\n",
       "  'Description': 'electronic item'},\n",
       " '10008': {'Name': 'Ear phones',\n",
       "  'Brand': 'Boat',\n",
       "  'Price': 800,\n",
       "  'Quantity': 170,\n",
       "  'Description': 'electronic item'},\n",
       " '10009': {'Name': 'Skipping Rope',\n",
       "  'Brand': 'Decathlon',\n",
       "  'Price': 500,\n",
       "  'Quantity': 40,\n",
       "  'Description': 'Fitness'},\n",
       " '10010': {'Name': 'AC',\n",
       "  'Brand': 'LG',\n",
       "  'Price': 35000,\n",
       "  'Quantity': 100,\n",
       "  'Description': 'Air conditioning'},\n",
       " '10011': {'Name': 'Shampoo',\n",
       "  'Brand': 'Clinic Plus',\n",
       "  'Price': 180,\n",
       "  'Quantity': 150,\n",
       "  'Description': 'Hair washer'},\n",
       " '10012': {'Name': 'Jeans',\n",
       "  'Brand': 'ZARA',\n",
       "  'Price': 2000,\n",
       "  'Quantity': 95,\n",
       "  'Description': 'Clothes'},\n",
       " '10013': {'Name': 'Perfume',\n",
       "  'Brand': 'Fogg',\n",
       "  'Price': 500,\n",
       "  'Quantity': 160,\n",
       "  'Description': 'Fragrance'},\n",
       " '10014': {'Name': 'Makeup kit',\n",
       "  'Brand': 'Lakme',\n",
       "  'Price': 3000,\n",
       "  'Quantity': 50,\n",
       "  'Description': 'Beauty'},\n",
       " '10015': {'Name': 'Soap',\n",
       "  'Brand': 'Himalaya',\n",
       "  'Price': 175,\n",
       "  'Quantity': 40,\n",
       "  'Description': 'Bathing'},\n",
       " '10016': {'Name': 'Table',\n",
       "  'Brand': 'Edra',\n",
       "  'Price': 800,\n",
       "  'Quantity': 90,\n",
       "  'Description': 'wooden'},\n",
       " '10017': {'Name': 'Laptop',\n",
       "  'Brand': 'HP',\n",
       "  'Price': 50000,\n",
       "  'Quantity': 190,\n",
       "  'Description': 'electronic item'},\n",
       " '10018': {'Name': 'Handbags',\n",
       "  'Brand': 'fastrack',\n",
       "  'Price': 500,\n",
       "  'Quantity': 60,\n",
       "  'Description': 'handbags and clutches'},\n",
       " '10019': {'Name': 'Chocolate',\n",
       "  'Brand': 'Amul',\n",
       "  'Price': 150,\n",
       "  'Quantity': 70,\n",
       "  'Description': 'Grocery'},\n",
       " '10020': {'Name': 'Maggie',\n",
       "  'Brand': 'Maggie',\n",
       "  'Price': 12,\n",
       "  'Quantity': 100,\n",
       "  'Description': 'Grocery'},\n",
       " '10021': {'Name': 'Dumbells',\n",
       "  'Brand': 'Decathlon',\n",
       "  'Price': 300,\n",
       "  'Quantity': 150,\n",
       "  'Description': 'sports'},\n",
       " '10022': {'Name': 'Toys',\n",
       "  'Brand': 'Toy',\n",
       "  'Price': 100,\n",
       "  'Quantity': 30,\n",
       "  'Description': 'Games'},\n",
       " '10023': {'Name': 'Baby product',\n",
       "  'Brand': 'Pampers',\n",
       "  'Price': 450,\n",
       "  'Quantity': 40,\n",
       "  'Description': 'baby products'},\n",
       " '10024': {'Name': 'Bike',\n",
       "  'Brand': 'KTM',\n",
       "  'Price': 80000,\n",
       "  'Quantity': 15,\n",
       "  'Description': 'two-wheel vehicle'},\n",
       " '10025': {'Name': 'Car',\n",
       "  'Brand': 'Creta',\n",
       "  'Price': 400000,\n",
       "  'Quantity': 30,\n",
       "  'Description': 'four wheel vehicle'},\n",
       " '10026': {'Name': 'cooler',\n",
       "  'Brand': 'Orient',\n",
       "  'Price': 5000,\n",
       "  'Quantity': 75,\n",
       "  'Description': 'Container for keeping food and bottles cool in heat'},\n",
       " '10027': {'Name': 'Almirah',\n",
       "  'Brand': 'Godrej',\n",
       "  'Price': 10000,\n",
       "  'Quantity': 90,\n",
       "  'Description': 'wardrobe'},\n",
       " '10028': {'Name': 'LED',\n",
       "  'Brand': 'Phillips',\n",
       "  'Price': 50,\n",
       "  'Quantity': 70,\n",
       "  'Description': 'electronic item'},\n",
       " '10029': {'Name': 'Juice',\n",
       "  'Brand': 'Tropicana',\n",
       "  'Price': 120,\n",
       "  'Quantity': 100,\n",
       "  'Description': 'drink'},\n",
       " '10030': {'Name': 'Refrigrator',\n",
       "  'Brand': 'Whirlpool',\n",
       "  'Price': 300000,\n",
       "  'Quantity': 60,\n",
       "  'Description': 'electronic item'}}"
      ]
     },
     "execution_count": 21,
     "metadata": {},
     "output_type": "execute_result"
    }
   ],
   "source": [
    "items"
   ]
  },
  {
   "cell_type": "markdown",
   "id": "b1f61797",
   "metadata": {},
   "source": [
    "## Reading Inventory"
   ]
  },
  {
   "cell_type": "code",
   "execution_count": 22,
   "id": "a753f6e4",
   "metadata": {},
   "outputs": [],
   "source": [
    "fd = open(\"items.json\",'r')\n",
    "txt = fd.read()\n",
    "fd.close()"
   ]
  },
  {
   "cell_type": "code",
   "execution_count": 23,
   "id": "d0393dba",
   "metadata": {},
   "outputs": [],
   "source": [
    "items=json.loads(txt)"
   ]
  },
  {
   "cell_type": "code",
   "execution_count": 24,
   "id": "551c81ca",
   "metadata": {},
   "outputs": [
    {
     "data": {
      "text/plain": [
       "{'10001': {'Name': 'Milk',\n",
       "  'Brand': 'Amul',\n",
       "  'Price': 30,\n",
       "  'Quantity': 90,\n",
       "  'Description': 'whitish liquid'},\n",
       " '10002': {'Name': 'Ice-cream',\n",
       "  'Brand': 'Mother Dairy',\n",
       "  'Price': 60,\n",
       "  'Quantity': 120,\n",
       "  'Description': 'frozen dairy food'},\n",
       " '10003': {'Name': 'Watch',\n",
       "  'Brand': 'Titan',\n",
       "  'Price': 1000,\n",
       "  'Quantity': 150,\n",
       "  'Description': 'portable timepiece'},\n",
       " '10004': {'Name': 'Sandals',\n",
       "  'Brand': 'Bata',\n",
       "  'Price': 500,\n",
       "  'Quantity': 100,\n",
       "  'Description': 'footwear'},\n",
       " '10005': {'Name': 'Shoes',\n",
       "  'Brand': 'Nike',\n",
       "  'Price': 5000,\n",
       "  'Quantity': 50,\n",
       "  'Description': 'footwear'},\n",
       " '10006': {'Name': 'Television',\n",
       "  'Brand': 'Sony',\n",
       "  'Price': 50000,\n",
       "  'Quantity': 70,\n",
       "  'Description': 'electronic item'},\n",
       " '10007': {'Name': 'Mobile',\n",
       "  'Brand': 'MI',\n",
       "  'Price': 12000,\n",
       "  'Quantity': 90,\n",
       "  'Description': 'electronic item'},\n",
       " '10008': {'Name': 'Ear phones',\n",
       "  'Brand': 'Boat',\n",
       "  'Price': 800,\n",
       "  'Quantity': 170,\n",
       "  'Description': 'electronic item'},\n",
       " '10009': {'Name': 'Skipping Rope',\n",
       "  'Brand': 'Decathlon',\n",
       "  'Price': 500,\n",
       "  'Quantity': 40,\n",
       "  'Description': 'Fitness'},\n",
       " '10010': {'Name': 'AC',\n",
       "  'Brand': 'LG',\n",
       "  'Price': 35000,\n",
       "  'Quantity': 100,\n",
       "  'Description': 'Air conditioning'},\n",
       " '10011': {'Name': 'Shampoo',\n",
       "  'Brand': 'Clinic Plus',\n",
       "  'Price': 180,\n",
       "  'Quantity': 150,\n",
       "  'Description': 'Hair washer'},\n",
       " '10012': {'Name': 'Jeans',\n",
       "  'Brand': 'ZARA',\n",
       "  'Price': 2000,\n",
       "  'Quantity': 95,\n",
       "  'Description': 'Clothes'},\n",
       " '10013': {'Name': 'Perfume',\n",
       "  'Brand': 'Fogg',\n",
       "  'Price': 500,\n",
       "  'Quantity': 160,\n",
       "  'Description': 'Fragrance'},\n",
       " '10014': {'Name': 'Makeup kit',\n",
       "  'Brand': 'Lakme',\n",
       "  'Price': 3000,\n",
       "  'Quantity': 50,\n",
       "  'Description': 'Beauty'},\n",
       " '10015': {'Name': 'Soap',\n",
       "  'Brand': 'Himalaya',\n",
       "  'Price': 175,\n",
       "  'Quantity': 40,\n",
       "  'Description': 'Bathing'},\n",
       " '10016': {'Name': 'Table',\n",
       "  'Brand': 'Edra',\n",
       "  'Price': 800,\n",
       "  'Quantity': 90,\n",
       "  'Description': 'wooden'},\n",
       " '10017': {'Name': 'Laptop',\n",
       "  'Brand': 'HP',\n",
       "  'Price': 50000,\n",
       "  'Quantity': 190,\n",
       "  'Description': 'electronic item'},\n",
       " '10018': {'Name': 'Handbags',\n",
       "  'Brand': 'fastrack',\n",
       "  'Price': 500,\n",
       "  'Quantity': 60,\n",
       "  'Description': 'handbags and clutches'},\n",
       " '10019': {'Name': 'Chocolate',\n",
       "  'Brand': 'Amul',\n",
       "  'Price': 150,\n",
       "  'Quantity': 70,\n",
       "  'Description': 'Grocery'},\n",
       " '10020': {'Name': 'Maggie',\n",
       "  'Brand': 'Maggie',\n",
       "  'Price': 12,\n",
       "  'Quantity': 100,\n",
       "  'Description': 'Grocery'},\n",
       " '10021': {'Name': 'Dumbells',\n",
       "  'Brand': 'Decathlon',\n",
       "  'Price': 300,\n",
       "  'Quantity': 150,\n",
       "  'Description': 'sports'},\n",
       " '10022': {'Name': 'Toys',\n",
       "  'Brand': 'Toy',\n",
       "  'Price': 100,\n",
       "  'Quantity': 30,\n",
       "  'Description': 'Games'},\n",
       " '10023': {'Name': 'Baby product',\n",
       "  'Brand': 'Pampers',\n",
       "  'Price': 450,\n",
       "  'Quantity': 40,\n",
       "  'Description': 'baby products'},\n",
       " '10024': {'Name': 'Bike',\n",
       "  'Brand': 'KTM',\n",
       "  'Price': 80000,\n",
       "  'Quantity': 15,\n",
       "  'Description': 'two-wheel vehicle'},\n",
       " '10025': {'Name': 'Car',\n",
       "  'Brand': 'Creta',\n",
       "  'Price': 400000,\n",
       "  'Quantity': 30,\n",
       "  'Description': 'four wheel vehicle'},\n",
       " '10026': {'Name': 'cooler',\n",
       "  'Brand': 'Orient',\n",
       "  'Price': 5000,\n",
       "  'Quantity': 75,\n",
       "  'Description': 'Container for keeping food and bottles cool in heat'},\n",
       " '10027': {'Name': 'Almirah',\n",
       "  'Brand': 'Godrej',\n",
       "  'Price': 10000,\n",
       "  'Quantity': 90,\n",
       "  'Description': 'wardrobe'},\n",
       " '10028': {'Name': 'LED',\n",
       "  'Brand': 'Phillips',\n",
       "  'Price': 50,\n",
       "  'Quantity': 70,\n",
       "  'Description': 'electronic item'},\n",
       " '10029': {'Name': 'Juice',\n",
       "  'Brand': 'Tropicana',\n",
       "  'Price': 120,\n",
       "  'Quantity': 100,\n",
       "  'Description': 'drink'},\n",
       " '10030': {'Name': 'Refrigrator',\n",
       "  'Brand': 'Whirlpool',\n",
       "  'Price': 300000,\n",
       "  'Quantity': 60,\n",
       "  'Description': 'electronic item'}}"
      ]
     },
     "execution_count": 24,
     "metadata": {},
     "output_type": "execute_result"
    }
   ],
   "source": [
    "items"
   ]
  },
  {
   "cell_type": "markdown",
   "id": "af5caa4a",
   "metadata": {},
   "source": [
    "## Purchasing items"
   ]
  },
  {
   "cell_type": "code",
   "execution_count": 25,
   "id": "4eaef5c9",
   "metadata": {},
   "outputs": [
    {
     "name": "stdout",
     "output_type": "stream",
     "text": [
      "Displaying all items present in an inventory:  {'10001': {'Name': 'Milk', 'Brand': 'Amul', 'Price': 30, 'Quantity': 90, 'Description': 'whitish liquid'}, '10002': {'Name': 'Ice-cream', 'Brand': 'Mother Dairy', 'Price': 60, 'Quantity': 120, 'Description': 'frozen dairy food'}, '10003': {'Name': 'Watch', 'Brand': 'Titan', 'Price': 1000, 'Quantity': 150, 'Description': 'portable timepiece'}, '10004': {'Name': 'Sandals', 'Brand': 'Bata', 'Price': 500, 'Quantity': 100, 'Description': 'footwear'}, '10005': {'Name': 'Shoes', 'Brand': 'Nike', 'Price': 5000, 'Quantity': 50, 'Description': 'footwear'}, '10006': {'Name': 'Television', 'Brand': 'Sony', 'Price': 50000, 'Quantity': 70, 'Description': 'electronic item'}, '10007': {'Name': 'Mobile', 'Brand': 'MI', 'Price': 12000, 'Quantity': 90, 'Description': 'electronic item'}, '10008': {'Name': 'Ear phones', 'Brand': 'Boat', 'Price': 800, 'Quantity': 170, 'Description': 'electronic item'}, '10009': {'Name': 'Skipping Rope', 'Brand': 'Decathlon', 'Price': 500, 'Quantity': 40, 'Description': 'Fitness'}, '10010': {'Name': 'AC', 'Brand': 'LG', 'Price': 35000, 'Quantity': 100, 'Description': 'Air conditioning'}, '10011': {'Name': 'Shampoo', 'Brand': 'Clinic Plus', 'Price': 180, 'Quantity': 150, 'Description': 'Hair washer'}, '10012': {'Name': 'Jeans', 'Brand': 'ZARA', 'Price': 2000, 'Quantity': 95, 'Description': 'Clothes'}, '10013': {'Name': 'Perfume', 'Brand': 'Fogg', 'Price': 500, 'Quantity': 160, 'Description': 'Fragrance'}, '10014': {'Name': 'Makeup kit', 'Brand': 'Lakme', 'Price': 3000, 'Quantity': 50, 'Description': 'Beauty'}, '10015': {'Name': 'Soap', 'Brand': 'Himalaya', 'Price': 175, 'Quantity': 40, 'Description': 'Bathing'}, '10016': {'Name': 'Table', 'Brand': 'Edra', 'Price': 800, 'Quantity': 90, 'Description': 'wooden'}, '10017': {'Name': 'Laptop', 'Brand': 'HP', 'Price': 50000, 'Quantity': 190, 'Description': 'electronic item'}, '10018': {'Name': 'Handbags', 'Brand': 'fastrack', 'Price': 500, 'Quantity': 60, 'Description': 'handbags and clutches'}, '10019': {'Name': 'Chocolate', 'Brand': 'Amul', 'Price': 150, 'Quantity': 70, 'Description': 'Grocery'}, '10020': {'Name': 'Maggie', 'Brand': 'Maggie', 'Price': 12, 'Quantity': 100, 'Description': 'Grocery'}, '10021': {'Name': 'Dumbells', 'Brand': 'Decathlon', 'Price': 300, 'Quantity': 150, 'Description': 'sports'}, '10022': {'Name': 'Toys', 'Brand': 'Toy', 'Price': 100, 'Quantity': 30, 'Description': 'Games'}, '10023': {'Name': 'Baby product', 'Brand': 'Pampers', 'Price': 450, 'Quantity': 40, 'Description': 'baby products'}, '10024': {'Name': 'Bike', 'Brand': 'KTM', 'Price': 80000, 'Quantity': 15, 'Description': 'two-wheel vehicle'}, '10025': {'Name': 'Car', 'Brand': 'Creta', 'Price': 400000, 'Quantity': 30, 'Description': 'four wheel vehicle'}, '10026': {'Name': 'cooler', 'Brand': 'Orient', 'Price': 5000, 'Quantity': 75, 'Description': 'Container for keeping food and bottles cool in heat'}, '10027': {'Name': 'Almirah', 'Brand': 'Godrej', 'Price': 10000, 'Quantity': 90, 'Description': 'wardrobe'}, '10028': {'Name': 'LED', 'Brand': 'Phillips', 'Price': 50, 'Quantity': 70, 'Description': 'electronic item'}, '10029': {'Name': 'Juice', 'Brand': 'Tropicana', 'Price': 120, 'Quantity': 100, 'Description': 'drink'}, '10030': {'Name': 'Refrigrator', 'Brand': 'Whirlpool', 'Price': 300000, 'Quantity': 60, 'Description': 'electronic item'}}\n"
     ]
    }
   ],
   "source": [
    "print(\"Displaying all items present in an inventory: \",items)"
   ]
  },
  {
   "cell_type": "code",
   "execution_count": 26,
   "id": "2db4d5eb",
   "metadata": {},
   "outputs": [
    {
     "name": "stdout",
     "output_type": "stream",
     "text": [
      "Enter no: 2\n",
      "Number of purchasing items:  2\n"
     ]
    }
   ],
   "source": [
    "no_of_items_purchasing = int(input(\"Enter no: \"))\n",
    "print(\"Number of purchasing items: \",no_of_items_purchasing)"
   ]
  },
  {
   "cell_type": "code",
   "execution_count": 27,
   "id": "6f78c929",
   "metadata": {},
   "outputs": [
    {
     "name": "stdout",
     "output_type": "stream",
     "text": [
      "Enter the Item_Id: 10028\n",
      "Enter the quantity: 5\n",
      "Item Name:  LED\n",
      "Item Brand:  Phillips\n",
      "Item Price:  50\n",
      "Total Quantity Available:  70\n",
      "Item Description:  electronic item\n",
      "Billing Amount for single item:  250\n",
      "Enter the Item_Id: 10016\n",
      "Enter the quantity: 10\n",
      "Item Name:  Table\n",
      "Item Brand:  Edra\n",
      "Item Price:  800\n",
      "Total Quantity Available:  90\n",
      "Item Description:  wooden\n",
      "Billing Amount for single item:  8000\n"
     ]
    }
   ],
   "source": [
    "for i in range(0,no_of_items_purchasing):\n",
    "    ui_item_id  = (input(\"Enter the Item_Id: \"))\n",
    "    ui_quantity = int(input(\"Enter the quantity: \"))\n",
    "    if(ui_quantity>item_quantity):\n",
    "        print(\"Quantity exceed\")\n",
    "    else:\n",
    "        print(\"Item Name: \", items[ui_item_id]['Name'])\n",
    "        print(\"Item Brand: \", items[ui_item_id]['Brand'])\n",
    "        print(\"Item Price: \", items[ui_item_id]['Price'])\n",
    "        print(\"Total Quantity Available: \", items[ui_item_id]['Quantity'])\n",
    "        print(\"Item Description: \", items[ui_item_id]['Description'])\n",
    "        print(\"Billing Amount for single item: \", items[ui_item_id]['Price'] * ui_quantity)\n",
    "        items[ui_item_id]['Quantity'] = items[ui_item_id]['Quantity'] - ui_quantity"
   ]
  },
  {
   "cell_type": "markdown",
   "id": "4ea5eb22",
   "metadata": {},
   "source": [
    "## Update Inventory after purchasing items"
   ]
  },
  {
   "cell_type": "code",
   "execution_count": 43,
   "id": "e91b25e6",
   "metadata": {},
   "outputs": [],
   "source": [
    "js = json.dumps(items)"
   ]
  },
  {
   "cell_type": "code",
   "execution_count": 44,
   "id": "f2d003e1",
   "metadata": {},
   "outputs": [],
   "source": [
    "fd = open(\"items.json\",'w')\n",
    "\n",
    "fd.write(js)\n",
    "\n",
    "fd.close()"
   ]
  },
  {
   "cell_type": "code",
   "execution_count": 45,
   "id": "f1347fd5",
   "metadata": {},
   "outputs": [],
   "source": [
    "## testing\n",
    "fd = open(\"items.json\",'r')\n",
    "txt = fd.read()\n",
    "fd.close()"
   ]
  },
  {
   "cell_type": "code",
   "execution_count": 46,
   "id": "62eea62e",
   "metadata": {},
   "outputs": [
    {
     "data": {
      "text/plain": [
       "'{\"10001\": {\"Name\": \"Milk\", \"Brand\": \"Amul\", \"Price\": 30, \"Quantity\": 90, \"Description\": \"whitish liquid\"}, \"10002\": {\"Name\": \"Ice-cream\", \"Brand\": \"Mother Dairy\", \"Price\": 60, \"Quantity\": 120, \"Description\": \"frozen dairy food\"}, \"10003\": {\"Name\": \"Watch\", \"Brand\": \"Titan\", \"Price\": 1000, \"Quantity\": 150, \"Description\": \"portable timepiece\"}, \"10004\": {\"Name\": \"Sandals\", \"Brand\": \"Bata\", \"Price\": 500, \"Quantity\": 100, \"Description\": \"footwear\"}, \"10005\": {\"Name\": \"Shoes\", \"Brand\": \"Nike\", \"Price\": 5000, \"Quantity\": 50, \"Description\": \"footwear\"}, \"10006\": {\"Name\": \"Television\", \"Brand\": \"Sony\", \"Price\": 50000, \"Quantity\": 70, \"Description\": \"electronic item\"}, \"10007\": {\"Name\": \"Mobile\", \"Brand\": \"MI\", \"Price\": 12000, \"Quantity\": 90, \"Description\": \"electronic item\"}, \"10008\": {\"Name\": \"Ear phones\", \"Brand\": \"Boat\", \"Price\": 800, \"Quantity\": 170, \"Description\": \"electronic item\"}, \"10009\": {\"Name\": \"Skipping Rope\", \"Brand\": \"Decathlon\", \"Price\": 500, \"Quantity\": 40, \"Description\": \"Fitness\"}, \"10010\": {\"Name\": \"AC\", \"Brand\": \"LG\", \"Price\": 35000, \"Quantity\": 100, \"Description\": \"Air conditioning\"}, \"10011\": {\"Name\": \"Shampoo\", \"Brand\": \"Clinic Plus\", \"Price\": 180, \"Quantity\": 150, \"Description\": \"Hair washer\"}, \"10012\": {\"Name\": \"Jeans\", \"Brand\": \"ZARA\", \"Price\": 2000, \"Quantity\": 95, \"Description\": \"Clothes\"}, \"10013\": {\"Name\": \"Perfume\", \"Brand\": \"Fogg\", \"Price\": 500, \"Quantity\": 160, \"Description\": \"Fragrance\"}, \"10014\": {\"Name\": \"Makeup kit\", \"Brand\": \"Lakme\", \"Price\": 3000, \"Quantity\": 50, \"Description\": \"Beauty\"}, \"10015\": {\"Name\": \"Soap\", \"Brand\": \"Himalaya\", \"Price\": 175, \"Quantity\": 40, \"Description\": \"Bathing\"}, \"10016\": {\"Name\": \"Table\", \"Brand\": \"Edra\", \"Price\": 800, \"Quantity\": 80, \"Description\": \"wooden\"}, \"10017\": {\"Name\": \"Laptop\", \"Brand\": \"HP\", \"Price\": 50000, \"Quantity\": 190, \"Description\": \"electronic item\"}, \"10018\": {\"Name\": \"Handbags\", \"Brand\": \"fastrack\", \"Price\": 500, \"Quantity\": 60, \"Description\": \"handbags and clutches\"}, \"10019\": {\"Name\": \"Chocolate\", \"Brand\": \"Amul\", \"Price\": 150, \"Quantity\": 70, \"Description\": \"Grocery\"}, \"10020\": {\"Name\": \"Maggie\", \"Brand\": \"Maggie\", \"Price\": 12, \"Quantity\": 100, \"Description\": \"Grocery\"}, \"10021\": {\"Name\": \"Dumbells\", \"Brand\": \"Decathlon\", \"Price\": 300, \"Quantity\": 150, \"Description\": \"sports\"}, \"10022\": {\"Name\": \"Toys\", \"Brand\": \"Toy\", \"Price\": 100, \"Quantity\": 30, \"Description\": \"Games\"}, \"10023\": {\"Name\": \"Baby product\", \"Brand\": \"Pampers\", \"Price\": 450, \"Quantity\": 40, \"Description\": \"baby products\"}, \"10024\": {\"Name\": \"Bike\", \"Brand\": \"KTM\", \"Price\": 80000, \"Quantity\": 15, \"Description\": \"two-wheel vehicle\"}, \"10025\": {\"Name\": \"Car\", \"Brand\": \"Creta\", \"Price\": 400000, \"Quantity\": 30, \"Description\": \"four wheel vehicle\"}, \"10026\": {\"Name\": \"cooler\", \"Brand\": \"Orient\", \"Price\": 5000, \"Quantity\": 75, \"Description\": \"Container for keeping food and bottles cool in heat\"}, \"10027\": {\"Name\": \"Almirah\", \"Brand\": \"Godrej\", \"Price\": 10000, \"Quantity\": 90, \"Description\": \"wardrobe\"}, \"10028\": {\"Name\": \"LED\", \"Brand\": \"Phillips\", \"Price\": 50, \"Quantity\": 65, \"Description\": \"electronic item\"}, \"10029\": {\"Name\": \"Juice\", \"Brand\": \"Tropicana\", \"Price\": 120, \"Quantity\": 100, \"Description\": \"drink\"}, \"10030\": {\"Name\": \"Refrigrator\", \"Brand\": \"Whirlpool\", \"Price\": 300000, \"Quantity\": 60, \"Description\": \"electronic item\"}}'"
      ]
     },
     "execution_count": 46,
     "metadata": {},
     "output_type": "execute_result"
    }
   ],
   "source": [
    "txt"
   ]
  },
  {
   "cell_type": "markdown",
   "id": "0ca1942e",
   "metadata": {},
   "source": [
    "## Sales JSON"
   ]
  },
  {
   "cell_type": "code",
   "execution_count": 47,
   "id": "5f983ac5",
   "metadata": {},
   "outputs": [
    {
     "data": {
      "text/plain": [
       "{'item_id': '10016',\n",
       " 'Name': 'Refrigrator',\n",
       " 'Brand': 'Whirlpool',\n",
       " 'Price': 300000,\n",
       " 'Quantity': 10,\n",
       " 'Description': 'electronic item',\n",
       " 'Amount': 8000}"
      ]
     },
     "execution_count": 47,
     "metadata": {},
     "output_type": "execute_result"
    }
   ],
   "source": [
    "{'item_id' : ui_item_id, 'Name': item_name, 'Brand': item_brand, 'Price': item_price, 'Quantity' :  ui_quantity, 'Description': item_description , 'Amount': items[ui_item_id]['Price'] * ui_quantity}"
   ]
  },
  {
   "cell_type": "code",
   "execution_count": 48,
   "id": "f4b2b265",
   "metadata": {},
   "outputs": [],
   "source": [
    "sales = {1:{'item_id' : ui_item_id, 'Name': item_name, 'Brand': item_brand, 'Price': item_price, 'Quantity' :  ui_quantity, 'Description': item_description , 'Amount': items[ui_item_id]['Price'] * ui_quantity}}"
   ]
  },
  {
   "cell_type": "code",
   "execution_count": 49,
   "id": "3dd64fc2",
   "metadata": {},
   "outputs": [
    {
     "data": {
      "text/plain": [
       "{1: {'item_id': '10016',\n",
       "  'Name': 'Refrigrator',\n",
       "  'Brand': 'Whirlpool',\n",
       "  'Price': 300000,\n",
       "  'Quantity': 10,\n",
       "  'Description': 'electronic item',\n",
       "  'Amount': 8000}}"
      ]
     },
     "execution_count": 49,
     "metadata": {},
     "output_type": "execute_result"
    }
   ],
   "source": [
    "sales"
   ]
  },
  {
   "cell_type": "code",
   "execution_count": 50,
   "id": "1a7b56a5",
   "metadata": {},
   "outputs": [
    {
     "data": {
      "text/plain": [
       "2"
      ]
     },
     "execution_count": 50,
     "metadata": {},
     "output_type": "execute_result"
    }
   ],
   "source": [
    "len(sales) + 1"
   ]
  },
  {
   "cell_type": "code",
   "execution_count": 51,
   "id": "1651f09a",
   "metadata": {},
   "outputs": [],
   "source": [
    "sales = {len(sales) + 1:{'item_id' : ui_item_id, 'Name': item_name, 'Brand': item_brand, 'Price': item_price, 'Quantity' :  ui_quantity, 'Description': item_description , 'Amount': items[ui_item_id]['Price'] * ui_quantity}}"
   ]
  },
  {
   "cell_type": "code",
   "execution_count": 52,
   "id": "e9317426",
   "metadata": {},
   "outputs": [],
   "source": [
    "#for i in range(0,no_of_items_purchasing):\n",
    "sales = {len(sales) + 1:{'item_id' : ui_item_id, 'Name': item_name, 'Brand': item_brand, 'Price': item_price, 'Quantity' :  ui_quantity, 'Description': item_description , 'Amount': items[ui_item_id]['Price'] * ui_quantity}}"
   ]
  },
  {
   "cell_type": "code",
   "execution_count": 59,
   "id": "a84577b4",
   "metadata": {},
   "outputs": [],
   "source": [
    "sale=json.dumps(sales)"
   ]
  },
  {
   "cell_type": "code",
   "execution_count": 60,
   "id": "4be9435b",
   "metadata": {},
   "outputs": [
    {
     "data": {
      "text/plain": [
       "'{\"2\": {\"item_id\": \"10016\", \"Name\": \"Refrigrator\", \"Brand\": \"Whirlpool\", \"Price\": 300000, \"Quantity\": 10, \"Description\": \"electronic item\", \"Amount\": 8000}}'"
      ]
     },
     "execution_count": 60,
     "metadata": {},
     "output_type": "execute_result"
    }
   ],
   "source": [
    "sale"
   ]
  },
  {
   "cell_type": "code",
   "execution_count": 61,
   "id": "68ebd18b",
   "metadata": {},
   "outputs": [],
   "source": [
    "fd = open(\"sales.json\",'w')\n",
    "s = fd.write(sale)\n",
    "fd.close()"
   ]
  },
  {
   "cell_type": "code",
   "execution_count": null,
   "id": "d3f9c586",
   "metadata": {},
   "outputs": [],
   "source": []
  }
 ],
 "metadata": {
  "kernelspec": {
   "display_name": "Python 3",
   "language": "python",
   "name": "python3"
  },
  "language_info": {
   "codemirror_mode": {
    "name": "ipython",
    "version": 3
   },
   "file_extension": ".py",
   "mimetype": "text/x-python",
   "name": "python",
   "nbconvert_exporter": "python",
   "pygments_lexer": "ipython3",
   "version": "3.8.8"
  }
 },
 "nbformat": 4,
 "nbformat_minor": 5
}
